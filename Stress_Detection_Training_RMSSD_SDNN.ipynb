{
 "cells": [
  {
   "cell_type": "markdown",
   "id": "15371450-307e-4660-8b74-7d929607dd2a",
   "metadata": {},
   "source": [
    "# Stress Detection Training Model"
   ]
  },
  {
   "cell_type": "markdown",
   "id": "97208057-ac4a-4737-ad34-7b09225ab54c",
   "metadata": {},
   "source": [
    "This notebook trains a machine learning model to detect stress levels based on HRV, Body Temperature Data and can be extended to include other features from the dataset. For training we use the WESAD dataset."
   ]
  },
  {
   "cell_type": "markdown",
   "id": "3ff4c2ea-0294-4e78-b373-afb1f1828322",
   "metadata": {},
   "source": [
    "## Importing Libraies"
   ]
  },
  {
   "cell_type": "code",
   "execution_count": 3,
   "id": "652aceb1-be6c-4628-8a46-7fcedebbc923",
   "metadata": {},
   "outputs": [],
   "source": [
    "import heartpy as hp\n",
    "import numpy as np\n",
    "import pickle\n",
    "import pandas as pd\n",
    "from sklearn.model_selection import StratifiedKFold, cross_val_score, train_test_split, cross_val_predict, LeaveOneOut\n",
    "from sklearn.metrics import accuracy_score, classification_report, confusion_matrix\n",
    "import seaborn as sns\n",
    "import matplotlib.pyplot as plt\n",
    "import xgboost as xgb\n",
    "from joblib import dump, load\n",
    "from sklearn.preprocessing import LabelEncoder\n",
    "from sklearn.model_selection import train_test_split\n",
    "from imblearn.over_sampling import SMOTE"
   ]
  },
  {
   "cell_type": "markdown",
   "id": "5a9be2b7-6bde-4141-9232-ce24edc1a2fe",
   "metadata": {},
   "source": [
    "## Defining Functions"
   ]
  },
  {
   "cell_type": "markdown",
   "id": "091b7773-7d60-455d-bf37-eb8fd16caccd",
   "metadata": {},
   "source": [
    "### calculate_hrv"
   ]
  },
  {
   "cell_type": "markdown",
   "id": "cddb9b22-8834-478d-b106-ad72754ff3ad",
   "metadata": {},
   "source": [
    "This function takes ecg segments and the smaple rate and returns the hrv data for that segment"
   ]
  },
  {
   "cell_type": "code",
   "execution_count": 4,
   "id": "b33d0692-92d5-42f1-9ddb-8a54a6a8a12e",
   "metadata": {},
   "outputs": [],
   "source": [
    "def calculate_hrv(ecg_segment, sampling_rate):\n",
    "    wd, m = hp.process(ecg_segment, sample_rate=sampling_rate)\n",
    "    return m"
   ]
  },
  {
   "cell_type": "markdown",
   "id": "8152e259-a42d-4569-8381-e55186daa17a",
   "metadata": {},
   "source": [
    "### get_subject_data"
   ]
  },
  {
   "cell_type": "markdown",
   "id": "6d8b04e1-7b53-4525-99e4-130b2e1e06da",
   "metadata": {},
   "source": [
    "This function gets the subjects HRV and temperature data with stress labels from the WESAD dataset. It then reduces the multiple labels into binary labels, either stressed or not stressed."
   ]
  },
  {
   "cell_type": "code",
   "execution_count": 8,
   "id": "5d9eb302-88c2-4e13-adab-7dee725f0ae6",
   "metadata": {},
   "outputs": [],
   "source": [
    "def get_subject_data(sid):\n",
    "    file = 'WESAD/' + sid + '/' + sid + '.pkl'\n",
    "    # Load data\n",
    "    with open(file, 'rb') as f:\n",
    "        data = pickle.load(f, encoding='latin1')\n",
    "    labels = data['label']  # Extracting the Labels in their own array\n",
    "    ecg_data = data['signal']['chest']['ECG'][:, 0]  # Extracting the ECG data\n",
    "    sampling_rate = 700  # The sampling rate for ALL data\n",
    "\n",
    "    # List to store HRV metrics dictionaries\n",
    "    hrv_metrics_list = []\n",
    "\n",
    "    # Define minimum and maximum segment lengths (in data points)\n",
    "    min_length = sampling_rate * 5  # 5 seconds\n",
    "    max_length = sampling_rate * 360  # 6 minutes\n",
    "\n",
    "    # Segment the data by labels\n",
    "    ignored_labels = [5, 6, 7]  # Ignored labels as declared in dataset\n",
    "    unique_labels = [label for label in np.unique(labels) if label not in ignored_labels]  # Get all labels\n",
    "    for label in unique_labels:\n",
    "        # Find indices where the current label is present\n",
    "        label_indices = np.where(labels == label)[0]\n",
    "\n",
    "        # Split the indices into consecutive chunks using np.split\n",
    "        diff_indices = np.where(np.diff(label_indices) != 1)[0] + 1\n",
    "        split_indices = np.split(label_indices, diff_indices)\n",
    "\n",
    "        for segment_indices in split_indices:\n",
    "            # Split segments further if they exceed the maximum length\n",
    "            for start_idx in range(0, len(segment_indices), max_length):\n",
    "                sub_segment_indices = segment_indices[start_idx:start_idx + max_length]\n",
    "\n",
    "                if len(sub_segment_indices) >= min_length:  # Check if the segment meets the minimum length requirement\n",
    "                    ecg_segment = ecg_data[sub_segment_indices]  # Segmenting ECG data\n",
    "\n",
    "                    hrv_metrics = calculate_hrv(ecg_segment, sampling_rate)  # Get HRV for that segment\n",
    "                    hrv_metrics['Label'] = 0 if label == 2 else 1  # Saves the Label for that segment\n",
    "                    \n",
    "                    hrv_metrics_list.append(hrv_metrics)  # Adds metric to the list\n",
    "\n",
    "    # Create DataFrame from the list of HRV metrics dictionaries\n",
    "    hrv_data = pd.DataFrame(hrv_metrics_list)\n",
    "    # Separate labels\n",
    "    labels = hrv_data['Label']\n",
    "    # Adjust Features Here\n",
    "    features = hrv_data[['rmssd','sdnn']]  # Adjusted to only include RMSSD and SDNN\n",
    "    return features, labels\n"
   ]
  },
  {
   "cell_type": "markdown",
   "id": "7318e0df-0dd9-43f0-9955-0c682d347bbf",
   "metadata": {},
   "source": [
    "### train_general_model"
   ]
  },
  {
   "cell_type": "markdown",
   "id": "8f56d613-7acd-42eb-bbaf-d40aa4b12fe4",
   "metadata": {},
   "source": [
    "Trains the general model when given a set of subject ids."
   ]
  },
  {
   "cell_type": "code",
   "execution_count": 9,
   "id": "010ae87b-97a9-4348-aa68-ac24de50f260",
   "metadata": {},
   "outputs": [],
   "source": [
    "def train_general_model(sids):\n",
    "    all_features = []\n",
    "    all_labels = []\n",
    "\n",
    "    # Get the data for each subject and append to lists\n",
    "    for subject_id in sids:\n",
    "        features, labels = get_subject_data(subject_id)\n",
    "        all_features.append(features)\n",
    "        all_labels.append(labels)\n",
    "\n",
    "    # Concatenate all data\n",
    "    x = pd.concat(all_features, ignore_index=True)\n",
    "    y = pd.concat(all_labels, ignore_index=True)\n",
    "\n",
    "    # Encode the labels\n",
    "    label_encoder = LabelEncoder()\n",
    "    y_encoded = label_encoder.fit_transform(y)\n",
    "\n",
    "    # Initialize SMOTE and resample the dataset\n",
    "    smote = SMOTE(random_state=42)\n",
    "    x_resampled, y_resampled = smote.fit_resample(x, y_encoded)\n",
    "    x_train, X_val, y_train, y_val = train_test_split(x_resampled, y_resampled, test_size=0.2, random_state=42)\n",
    "\n",
    "\n",
    "\n",
    "    # Initialize the XGBoost model with scale_pos_weight\n",
    "    model = xgb.XGBClassifier(\n",
    "        use_label_encoder=False,\n",
    "        eval_metric='logloss',\n",
    "    )\n",
    "\n",
    "    # Initialize Stratified K-Fold for cross-validation\n",
    "    skf = StratifiedKFold(n_splits=5, shuffle=True, random_state=42)\n",
    "\n",
    "    # Perform cross-validation predictions\n",
    "    y_pred = cross_val_predict(model, x_train, y_train, cv=skf)\n",
    "\n",
    "    # Evaluate the model and print the report\n",
    "    report = classification_report(y_train, y_pred)\n",
    "    print(report)\n",
    "    overall_accuracy = accuracy_score(y_train, y_pred) * 100\n",
    "    print(f'Overall accuracy: {overall_accuracy:.2f}%')\n",
    "\n",
    "    # Save the evaluation report to a text file\n",
    "    with open('evaluation_report_rt.txt', 'w') as f:\n",
    "        f.write(report)\n",
    "        f.write(f'Overall accuracy: {overall_accuracy:.2f}%\\n')\n",
    "\n",
    "    # Confusion Matrix\n",
    "    cm = confusion_matrix(y_train, y_pred)\n",
    "    sns.heatmap(cm, annot=True, fmt='d', cmap='Blues')\n",
    "    plt.title('Confusion Matrix')\n",
    "    plt.xlabel('Predicted')\n",
    "    plt.ylabel('Actual')\n",
    "    plt.savefig('regression_confusion_matrix_analog.png')\n",
    "    plt.show()\n",
    "    \n",
    "    # Train the model on the full dataset\n",
    "    model.fit(x_train, y_train)\n",
    "\n",
    "    model.save_model('xg.json')\n",
    "\n",
    "    # Make predictions on the validation set\n",
    "    y_pred = model.predict(X_val)\n",
    "\n",
    "    # Evaluate the model and print the report\n",
    "    report = classification_report(y_val, y_pred)\n",
    "    print(report)\n",
    "    overall_accuracy = accuracy_score(y_val, y_pred) * 100\n",
    "    print(f'Overall accuracy: {overall_accuracy:.2f}%')\n",
    "\n",
    "\n",
    "    return model\n"
   ]
  },
  {
   "cell_type": "markdown",
   "id": "2c96e0cc-1c96-4294-9e94-98d5f43863ef",
   "metadata": {},
   "source": [
    "## Main"
   ]
  },
  {
   "cell_type": "code",
   "execution_count": 10,
   "id": "c3e8aa16-ac3d-4afa-8d80-a242a6ddda3d",
   "metadata": {},
   "outputs": [
    {
     "name": "stdout",
     "output_type": "stream",
     "text": [
      "              precision    recall  f1-score   support\n",
      "\n",
      "           0       0.82      0.84      0.83       270\n",
      "           1       0.82      0.80      0.81       246\n",
      "\n",
      "    accuracy                           0.82       516\n",
      "   macro avg       0.82      0.82      0.82       516\n",
      "weighted avg       0.82      0.82      0.82       516\n",
      "\n",
      "Overall accuracy: 82.36%\n"
     ]
    },
    {
     "data": {
      "image/png": "[encoded data removed]",
      "text/plain": [
       "<Figure size 640x480 with 2 Axes>"
      ]
     },
     "metadata": {},
     "output_type": "display_data"
    },
    {
     "name": "stdout",
     "output_type": "stream",
     "text": [
      "              precision    recall  f1-score   support\n",
      "\n",
      "           0       0.72      0.83      0.77        53\n",
      "           1       0.87      0.78      0.82        77\n",
      "\n",
      "    accuracy                           0.80       130\n",
      "   macro avg       0.80      0.80      0.80       130\n",
      "weighted avg       0.81      0.80      0.80       130\n",
      "\n",
      "Overall accuracy: 80.00%\n",
      "Model saved successfully.\n"
     ]
    }
   ],
   "source": [
    "subject_ids = []\n",
    "for x in range(18):\n",
    "    if (x != 0) and (x != 1) and (x!= 12):\n",
    "        subject = \"S\" + str(x)\n",
    "        subject_ids.append(subject)\n",
    "general_model = train_general_model(subject_ids)\n",
    "dump(general_model, 'rmssd_model_xg.joblib')\n",
    "print(\"Model saved successfully.\")"
   ]
  },
  {
   "cell_type": "code",
   "execution_count": null,
   "id": "dd9d8722-df2e-43a8-a139-0570342c44a1",
   "metadata": {},
   "outputs": [],
   "source": []
  }
 ],
 "metadata": {
  "kernelspec": {
   "display_name": "Python 3 (ipykernel)",
   "language": "python",
   "name": "python3"
  },
  "language_info": {
   "codemirror_mode": {
    "name": "ipython",
    "version": 3
   },
   "file_extension": ".py",
   "mimetype": "text/x-python",
   "name": "python",
   "nbconvert_exporter": "python",
   "pygments_lexer": "ipython3",
   "version": "3.11.8"
  }
 },
 "nbformat": 4,
 "nbformat_minor": 5
}
